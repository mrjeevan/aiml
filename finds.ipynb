{
 "cells": [
  {
   "cell_type": "code",
   "execution_count": 1,
   "metadata": {},
   "outputs": [],
   "source": [
    "import pandas as pd\n",
    "import numpy as np\n",
    " \n"
   ]
  },
  {
   "cell_type": "code",
   "execution_count": 3,
   "metadata": {},
   "outputs": [
    {
     "name": "stdout",
     "output_type": "stream",
     "text": [
      "   Unnamed: 0 orignal manufacturer  color  decade     type example type\n",
      "0           1   japan        honda   blue    1980  economy     positive\n",
      "1           2   japan       toyota  green    1970   sports     negative\n",
      "2           3   japan       toyota   blue    1990  economy     positive\n",
      "3           4     USA     chrysler    red    1980  economy     negative\n",
      "4           5   japan        honda  white    1980  economy     positive\n",
      "5           6   japan        honda  white    1970   sports     positive n\n",
      "n The attributes are:  [[1 'japan' 'honda' 'blue' 1980 'economy']\n",
      " [2 'japan' 'toyota' 'green' 1970 'sports']\n",
      " [3 'japan' 'toyota' 'blue' 1990 'economy']\n",
      " [4 'USA' 'chrysler' 'red' 1980 'economy']\n",
      " [5 'japan' 'honda' 'white' 1980 'economy']\n",
      " [6 'japan' 'honda' 'white' 1970 'sports']]\n",
      "n The target is:  ['positive' 'negative' 'positive' 'negative' 'positive' 'positive']\n",
      "n The final hypothesis is: ['?' 'japan' '?' '?' '?' '?']\n"
     ]
    }
   ],
   "source": [
    "#to read the data in the csv file\n",
    "data = pd.read_csv(\"bhuvan.csv\")\n",
    "print(data,\"n\")\n",
    " \n",
    "#making an array of all the attributes\n",
    "d = np.array(data)[:,:-1]\n",
    "print(\"n The attributes are: \",d)\n",
    " \n",
    "#segragating the target that has positive and negative examples\n",
    "target = np.array(data)[:,-1]\n",
    "print(\"n The target is: \",target)\n",
    " \n",
    "#training function to implement find-s algorithm\n",
    "def train(c,t):\n",
    "    for i, val in enumerate(t):\n",
    "        if val == \"positive\":\n",
    "            specific_hypothesis = c[i].copy()\n",
    "            break\n",
    "             \n",
    "    for i, val in enumerate(c):\n",
    "        if t[i] == \"positive\":\n",
    "            for x in range(len(specific_hypothesis)):\n",
    "                if val[x] != specific_hypothesis[x]:\n",
    "                    specific_hypothesis[x] = '?'\n",
    "                else:\n",
    "                    pass\n",
    "                 \n",
    "    return specific_hypothesis\n",
    " \n",
    "#obtaining the final hypothesis\n",
    "print(\"n The final hypothesis is:\",train(d,target))"
   ]
  }
 ],
 "metadata": {
  "interpreter": {
   "hash": "0776a83e9dffb462abcf2fe33f8a5931c0768145543378dd5849e00a65d1c1a0"
  },
  "kernelspec": {
   "display_name": "Python 3.9.7 64-bit ('base': conda)",
   "language": "python",
   "name": "python3"
  },
  "language_info": {
   "codemirror_mode": {
    "name": "ipython",
    "version": 3
   },
   "file_extension": ".py",
   "mimetype": "text/x-python",
   "name": "python",
   "nbconvert_exporter": "python",
   "pygments_lexer": "ipython3",
   "version": "3.9.7"
  },
  "orig_nbformat": 4
 },
 "nbformat": 4,
 "nbformat_minor": 2
}
